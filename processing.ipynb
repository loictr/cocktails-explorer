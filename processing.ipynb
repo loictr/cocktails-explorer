{
 "cells": [
  {
   "cell_type": "code",
   "execution_count": null,
   "metadata": {},
   "outputs": [],
   "source": [
    "%pip install pandas\n",
    "%pip install inflect\n",
    "%pip install scikit-learn\n",
    "%pip install chromadb"
   ]
  },
  {
   "cell_type": "code",
   "execution_count": null,
   "metadata": {},
   "outputs": [],
   "source": [
    "DATA_DIRECTORY = './data'\n",
    "DB_DIRECTORY = './db'\n"
   ]
  },
  {
   "cell_type": "markdown",
   "metadata": {},
   "source": [
    "# Vectorization"
   ]
  },
  {
   "cell_type": "code",
   "execution_count": null,
   "metadata": {},
   "outputs": [],
   "source": [
    "import pandas as pd\n",
    "import json\n",
    "import pprint\n",
    "import inflect\n",
    "import pprint as pprint\n",
    "from sklearn.feature_extraction import DictVectorizer\n",
    "\n",
    "df=None\n",
    "for result_set in range(0, 26):\n",
    "    file_path =f'{DATA_DIRECTORY}/cocktails_{result_set}.json' \n",
    "    with open(file_path, 'r') as f:\n",
    "        data = json.load(f)\n",
    "        if(data['drinks'] is None or len(data['drinks']) == 0):\n",
    "            continue\n",
    "        df1 = pd.json_normalize(data['drinks'])\n",
    "        if df is None:\n",
    "            df = df1\n",
    "        else:\n",
    "            df = pd.concat([df, df1])\n",
    "\n",
    "print(\"df.size=\",df.size)\n",
    "\n",
    "p = inflect.engine()\n",
    "\n",
    "def build_ingredients(row):\n",
    "    ingredients = {}\n",
    "    for i in range(1, 16):\n",
    "        ingredient = row[f'strIngredient{i}']\n",
    "        if ingredient is None or ingredient == '':\n",
    "            break\n",
    "        ingredient = p.singular_noun(ingredient) or ingredient\n",
    "        name = ingredient.strip().title()\n",
    "        measure = row[f'strMeasure{i}']\n",
    "        ingredients[name] = measure\n",
    "    return ingredients\n",
    "\n",
    "def build_features(row):\n",
    "    ignored_ingredients = [\"water\", \"ice\"]\n",
    "    ignored_ingredients_containing = [\"sugar\", \"coloring\"]\n",
    "\n",
    "    features = {}\n",
    "    for ingredient in row[\"ingredients\"]:\n",
    "        if ingredient in ignored_ingredients: # TODO: ignore also everything containing \"sugar\" or \"coloring\", but not \"carbonated water\" or \"ice-cream\"\n",
    "            continue\n",
    "        ingredient = p.singular_noun(ingredient) or ingredient\n",
    "        ingredient = ingredient.strip().title()\n",
    "        features[ingredient] = 1 # measure is useless\n",
    "    return features\n",
    "\n",
    "\n",
    "df['ingredients'] = df.apply(build_ingredients, axis=1)\n",
    "df['features'] = df.apply(build_features, axis=1)\n",
    "\n",
    "recipes = []\n",
    "for index, row in df.iterrows():\n",
    "    recipe = {}\n",
    "    recipe['id'] = row['idDrink']\n",
    "    recipe['name'] = row['strDrink']\n",
    "    recipe['instructions'] = row['strInstructions']\n",
    "    recipe['image_thumb'] = row['strDrinkThumb']\n",
    "    recipe['alcohol'] = row['strAlcoholic']\n",
    "    # recipe['is_alcoolic'] = row['strDrinkThumb'] # possible values: 'Alcoholic' 'Non alcoholic' 'Optional alcohol'\n",
    "    recipe['ingredients'] = row['ingredients']\n",
    "    recipe['glass'] = row['strGlass']\n",
    "    recipes.append(recipe)\n",
    "\n",
    "\n",
    "vectorizer = DictVectorizer(sparse=False)\n",
    "X = vectorizer.fit_transform(df['features'])"
   ]
  },
  {
   "cell_type": "markdown",
   "metadata": {},
   "source": [
    "## get the lists, for translation purpose"
   ]
  },
  {
   "cell_type": "code",
   "execution_count": null,
   "metadata": {},
   "outputs": [],
   "source": [
    "unique_ingredients = set()\n",
    "for recipe in recipes:\n",
    "    unique_ingredients=unique_ingredients.union(recipe['ingredients'].keys())\n",
    "\n",
    "print(sorted(unique_ingredients))\n"
   ]
  },
  {
   "cell_type": "code",
   "execution_count": null,
   "metadata": {},
   "outputs": [],
   "source": [
    "sorted([recipe['name'] for recipe in recipes])"
   ]
  },
  {
   "cell_type": "code",
   "execution_count": null,
   "metadata": {},
   "outputs": [],
   "source": [
    "sorted(set([recipe['glass'] for recipe in recipes]))"
   ]
  },
  {
   "cell_type": "markdown",
   "metadata": {},
   "source": [
    "# Persist vectors"
   ]
  },
  {
   "cell_type": "code",
   "execution_count": null,
   "metadata": {},
   "outputs": [],
   "source": [
    "import chromadb\n",
    "from chromadb.config import Settings\n",
    "import os\n",
    "\n",
    "# Initialize Chroma client (in-memory for quick POC)\n",
    "db = chromadb.PersistentClient(\n",
    "        path=DB_DIRECTORY,\n",
    "        settings=Settings(allow_reset=True)\n",
    "    )\n",
    "\n",
    "# Create a collection for cocktails\n",
    "if(\"cocktails\" in [collection.name for collection in db.list_collections()]):\n",
    "    print(\"Deleting existing collection\")\n",
    "    db.delete_collection(\"cocktails\")\n",
    "collection = db.create_collection(\"cocktails\")\n",
    "\n",
    "for i, recipe in enumerate(recipes):\n",
    "    collection.add(\n",
    "        embeddings=X[i],\n",
    "        documents=[json.dumps(list(features[i].keys()))],\n",
    "        metadatas={\n",
    "            \"name\": recipe[\"name\"], \n",
    "            \"id\": recipe[\"id\"], \n",
    "            \"ingredients\": json.dumps(recipe[\"ingredients\"]),\n",
    "            \"image_thumb\": recipe[\"image_thumb\"],\n",
    "            \"alcohol\": recipe[\"alcohol\"],\n",
    "            \"glass\": recipe[\"glass\"],\n",
    "            \"instructions\": recipe[\"instructions\"],\n",
    "            },\n",
    "        ids=[recipe[\"id\"]]\n",
    "    )\n",
    "\n",
    "print(\"Collection created\")"
   ]
  },
  {
   "cell_type": "markdown",
   "metadata": {},
   "source": [
    "# Test"
   ]
  },
  {
   "cell_type": "code",
   "execution_count": null,
   "metadata": {},
   "outputs": [],
   "source": [
    "liked_recipes_names = [\"Pina Colada\", \"Margarita\"]\n",
    "liked_recipes = [recipe for recipe in recipes if recipe[\"name\"] in liked_recipes_names]\n",
    "\n",
    "# get the vectors for the liked recipes\n",
    "\n",
    "db_collection = db.get_collection(\"cocktails\")\n",
    "print(f\"Querying {db_collection.count()} cocktails...\")\n",
    "\n",
    "liked_recipes_vectors = db_collection.get(ids=[recipe[\"id\"] for recipe in liked_recipes], include=[\"metadatas\", \"embeddings\"])\n",
    "\n",
    "where_clause = {\"id\": {\"$nin\": [recipe[\"id\"] for recipe in liked_recipes]}}\n",
    "\n",
    "results = db_collection.query(liked_recipes_vectors[\"embeddings\"], where=where_clause, n_results=5, include=[\"metadatas\", \"distances\",\"documents\"])\n",
    "\n",
    "results_structured = []\n",
    "for result_set, metadatas in enumerate(results[\"metadatas\"]):\n",
    "    for index_in_result_set, metadatas_for_result_set in enumerate(metadatas): \n",
    "        results_structured.append(\n",
    "            {\n",
    "                'id': metadatas_for_result_set[\"id\"],\n",
    "                'name': metadatas_for_result_set[\"name\"],\n",
    "                'distance': results[\"distances\"][result_set][index_in_result_set],\n",
    "                'ingredients': json.loads(results[\"documents\"][result_set][index_in_result_set]),\n",
    "                'result_set_index': result_set\n",
    "            })\n",
    "\n",
    "# for result in results[\"metadatas\"]:\n",
    "#     print('---')\n",
    "#     for cocktail in result:\n",
    "#         print(cocktail['name'])\n",
    "\n",
    "results_structured = sorted(results_structured, key=lambda x: x['distance'])\n",
    "pprint.pp(results_structured)\n"
   ]
  }
 ],
 "metadata": {
  "kernelspec": {
   "display_name": "venv",
   "language": "python",
   "name": "python3"
  },
  "language_info": {
   "codemirror_mode": {
    "name": "ipython",
    "version": 3
   },
   "file_extension": ".py",
   "mimetype": "text/x-python",
   "name": "python",
   "nbconvert_exporter": "python",
   "pygments_lexer": "ipython3",
   "version": "3.11.4"
  }
 },
 "nbformat": 4,
 "nbformat_minor": 2
}
